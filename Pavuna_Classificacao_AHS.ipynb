{
  "cells": [
    {
      "cell_type": "markdown",
      "metadata": {
        "id": "jXBuujMxXTBi"
      },
      "source": [
        "# Bibliotecas e dependências"
      ]
    },
    {
      "cell_type": "code",
      "execution_count": null,
      "metadata": {
        "colab": {
          "base_uri": "https://localhost:8080/"
        },
        "id": "SqqSgqPwWclq",
        "outputId": "b646331a-e53f-45e5-f851-44017ac53a77"
      },
      "outputs": [],
      "source": [
        "# Baixando a biblioteca Pyvips\n",
        "%%bash\n",
        "apt install libvips-dev --no-install-recommends"
      ]
    },
    {
      "cell_type": "code",
      "execution_count": null,
      "metadata": {
        "colab": {
          "base_uri": "https://localhost:8080/"
        },
        "id": "7sB7dW25XL7S",
        "outputId": "636a7828-8df4-4d78-d917-dcd3d347dfe8"
      },
      "outputs": [],
      "source": [
        "%pip install pyvips"
      ]
    },
    {
      "cell_type": "code",
      "execution_count": null,
      "metadata": {
        "colab": {
          "base_uri": "https://localhost:8080/"
        },
        "id": "wz-PZJ9eXPTJ",
        "outputId": "c9ae0170-80ac-4ece-8001-7e03f11ea259"
      },
      "outputs": [],
      "source": [
        "import numpy as np\n",
        "import pandas as pd\n",
        "import pyvips as pv #Realiza leitura da imagem\n",
        "import time #Tempo de cada modelo\n",
        "import matplotlib.pyplot as plt\n",
        "\n",
        "from imblearn.pipeline import Pipeline\n",
        "from plotly import figure_factory as ff\n",
        "from matplotlib.colors import ListedColormap\n",
        "\n",
        "#Transformação em imagens\n",
        "from skimage.segmentation import felzenszwalb, slic, join_segmentations, mark_boundaries\n",
        "from skimage.measure import label\n",
        "from skimage.util import img_as_ubyte\n",
        "from skimage.filters.rank import entropy\n",
        "from skimage.morphology import disk\n",
        "\n",
        "#Métricas\n",
        "from tensorflow.keras.metrics import MeanIoU\n",
        "from sklearn.metrics import roc_curve, auc, roc_auc_score\n",
        "from sklearn.metrics import classification_report, accuracy_score, confusion_matrix, f1_score, precision_score, recall_score\n",
        "\n",
        "#Modelos\n",
        "import lightgbm as lgb\n",
        "from sklearn.model_selection import train_test_split, RandomizedSearchCV, GridSearchCV\n",
        "from sklearn.ensemble import RandomForestClassifier, GradientBoostingClassifier, AdaBoostClassifier\n",
        "from sklearn.cluster import KMeans\n",
        "from sklearn.naive_bayes import GaussianNB\n",
        "from sklearn.linear_model import LogisticRegression\n",
        "from sklearn.neural_network import MLPClassifier\n",
        "\n",
        "import tensorflow as tf\n",
        "from tensorflow.keras.layers import Dense, Flatten, Conv2D, MaxPooling2D\n",
        "\n",
        "#Acesso ao Drive\n",
        "#Alterar para o Git quando subir o código open acess\n",
        "from google.colab import drive\n",
        "drive.mount('/content/drive')"
      ]
    },
    {
      "cell_type": "markdown",
      "metadata": {
        "id": "OTQK4FyCbMrf"
      },
      "source": [
        "## Pacote - BaseSuperpixel\n",
        "Autor: Ian Nunes"
      ]
    },
    {
      "cell_type": "code",
      "execution_count": 4,
      "metadata": {
        "id": "4lASgc3ebJlJ"
      },
      "outputs": [],
      "source": [
        "from os import listdir\n",
        "from os.path import isfile, join\n",
        "from skimage.color import rgb2gray\n",
        "from skimage.filters import sobel\n",
        "from skimage.segmentation import felzenszwalb, slic, quickshift, watershed\n",
        "from skimage.segmentation import mark_boundaries\n",
        "from skimage.util import img_as_float\n",
        "from skimage.segmentation import join_segmentations\n",
        "from skimage import io\n",
        "import numpy as np\n",
        "import scipy as sp\n",
        "from scipy.spatial import distance\n",
        "import matplotlib.pyplot as plt\n",
        "from datetime import datetime\n",
        "from skimage.measure import label, regionprops\n",
        "import math\n",
        "\n",
        "import sys\n",
        "\n",
        "def mahalanobis(x=None, data=None, cov=None):\n",
        "    \"\"\"Compute the Mahalanobis Distance between each row of x and the data\n",
        "    x    : vector or matrix of data with, say, p columns.\n",
        "    data : ndarray of the distribution from which Mahalanobis distance of each observation of x is to be computed.\n",
        "    cov  : covariance matrix (p x p) of the distribution. If None, will be computed from data.\n",
        "    \"\"\"\n",
        "    x_minus_mu = x - np.mean(data,axis=0)\n",
        "    try:\n",
        "        if not cov:\n",
        "            cov = np.cov(data.T)\n",
        "        inv_covmat = sp.linalg.inv(cov)\n",
        "        left_term = np.dot(x_minus_mu, inv_covmat)\n",
        "        mahal = np.dot(left_term, x_minus_mu.T)\n",
        "        if type (mahal) is np.float64:\n",
        "            return mahal\n",
        "        return mahal.diagonal()\n",
        "    except:\n",
        "        return 9999999999999999999\n",
        "\n",
        "def get_orderedsegments(label_img, max_pixels=25):\n",
        "    uniques = np.unique(label_img, return_counts=True)\n",
        "    filtered = [[],[]]\n",
        "    filtered[0] = np.array(uniques[0][uniques[1]<=max_pixels])\n",
        "    inds = filtered[0].argsort()\n",
        "    sortedSegments = filtered[0][inds]\n",
        "    return sortedSegments\n",
        "\n",
        "def get_neighbors(label_img):\n",
        "    #print(label_img.shape)\n",
        "    props = regionprops(label_img)\n",
        "    vizinhos_original = []\n",
        "    vizinhos_original.append([])\n",
        "    len_props=len(props)\n",
        "    for i in range(0,len_props):\n",
        "        #if (i)%int(len_props/5) == 0:\n",
        "            #print(i)\n",
        "        vizinhos_original.append([])\n",
        "        for j in props[i].coords:\n",
        "            if j[0]-1>=0:\n",
        "                if props[i].label!=label_img[j[0]-1,j[1]]:\n",
        "                    temp=label_img[j[0]-1,j[1]]\n",
        "                    vizinhos_original[props[i].label].append(temp)\n",
        "            if j[1]-1>=0:\n",
        "                if props[i].label!=label_img[j[0],j[1]-1]:\n",
        "                    vizinhos_original[props[i].label].append(label_img[j[0],j[1]-1])\n",
        "            if j[0]+1<label_img.shape[0]:\n",
        "                if props[i].label!=label_img[j[0]+1,j[1]]:\n",
        "                    vizinhos_original[props[i].label].append(label_img[j[0]+1,j[1]])\n",
        "            if j[1]+1<label_img.shape[1]:\n",
        "                if props[i].label!=label_img[j[0],j[1]+1]:\n",
        "                    vizinhos_original[props[i].label].append(label_img[j[0],j[1]+1])\n",
        "        vizinhos_original[props[i].label] = list(np.unique(vizinhos_original[props[i].label]))\n",
        "    #print(len_props)\n",
        "    return vizinhos_original\n",
        "\n",
        "def join_segments(label_img, img, min_number_pixels=50, distance='mean', verbose=True):\n",
        "    if verbose:\n",
        "        print('gerando labels unicos')\n",
        "    label_img = label(label_img, connectivity=1)\n",
        "    if verbose:\n",
        "        print('gerando vizinhos unicos')\n",
        "    vizinhos = get_neighbors(label_img)\n",
        "    if verbose:\n",
        "        print('gerando segmentos de tamanho minimo',min_number_pixels)\n",
        "    t1=datetime.now()\n",
        "    counter=0\n",
        "    k=np.min(label_img)\n",
        "    label_img_max=np.max(label_img)\n",
        "    to_print = int(label_img_max/1000)\n",
        "    if to_print<1000:\n",
        "        to_print=1000\n",
        "    while (k <= label_img_max):\n",
        "        t2=datetime.now()\n",
        "        i=k\n",
        "\n",
        "        label_img_i_len = len(label_img[label_img==i])\n",
        "        if (label_img_i_len>=min_number_pixels) or (label_img_i_len==0):\n",
        "            k+=1\n",
        "            continue\n",
        "\n",
        "        minDistance = 9999999999999999999999\n",
        "        minDistanceSeg = -1\n",
        "\n",
        "        for v in vizinhos[i]:\n",
        "            if v==i:\n",
        "                continue\n",
        "            if minDistanceSeg == -1:\n",
        "                minDistanceSeg = v\n",
        "            m=99999999999999999999999\n",
        "            len_v = len(label_img[label_img==v])\n",
        "            if len_v==0:\n",
        "                continue\n",
        "            if len_v>label_img_i_len and len_v>2:\n",
        "                if distance=='mean':\n",
        "                    m = mahalanobis(np.mean(img[label_img==i], axis=0),img[label_img==v])\n",
        "                else:\n",
        "                    m = mahalanobis(np.median(img[label_img==i], axis=0),img[label_img==v])\n",
        "\n",
        "            elif label_img_i_len>2:\n",
        "                if distance=='mean':\n",
        "                    m = mahalanobis(np.mean(img[label_img==v], axis=0),img[label_img==i])\n",
        "                else:\n",
        "                    m = mahalanobis(np.median(img[label_img==v], axis=0),img[label_img==i])\n",
        "            if m<minDistance:\n",
        "                minDistance = m\n",
        "                minDistanceSeg = v\n",
        "\n",
        "        finalsegment = -1\n",
        "        removedsegment = -1\n",
        "        if minDistanceSeg<i:\n",
        "            finalsegment = minDistanceSeg\n",
        "            removedsegment = i\n",
        "        else:\n",
        "            finalsegment = i\n",
        "            removedsegment = minDistanceSeg\n",
        "\n",
        "        label_img[label_img==removedsegment] = finalsegment\n",
        "\n",
        "        finalsegment_len = len(label_img[label_img==finalsegment])\n",
        "\n",
        "        if finalsegment<=k and finalsegment_len<min_number_pixels:\n",
        "            k=finalsegment\n",
        "        else:\n",
        "            k+=1\n",
        "\n",
        "        vizinhos[finalsegment] = [*vizinhos[finalsegment],*vizinhos[removedsegment]]\n",
        "        vizinhos[finalsegment] = list(np.unique(vizinhos[finalsegment]))\n",
        "        temp = vizinhos[removedsegment].copy()\n",
        "        for j in temp:\n",
        "            try:\n",
        "                vizinhos[j].remove(removedsegment)\n",
        "            except:\n",
        "                print('ERRO removendo:',removedsegment)\n",
        "            vizinhos[j].append(finalsegment)\n",
        "\n",
        "            vizinhos[j] = list(np.unique(vizinhos[j]))\n",
        "\n",
        "        counter+=1\n",
        "        if counter%to_print==0 or k > label_img_max:\n",
        "            #print(label_img_max,'|',k,'-',i,'-',finalsegment, '-', removedsegment,\"|\", np.max(label_img), '|', datetime.now()-t1, datetime.now()-t2, \"-\", counter, '-', (datetime.now()-t1)/counter,\" | \",'final segment len: ',finalsegment_len)#, '|', len(vizinhos[finalsegment-1]))\n",
        "            if verbose:\n",
        "                print(label_img_max,'|',k,'|',distance,'|', datetime.now()-t1, datetime.now()-t2, \"-\", counter, '-', (datetime.now()-t1)/counter)\n",
        "        if k > label_img_max:\n",
        "            label_img = label(label_img, connectivity=1)\n",
        "            unique_labels = np.unique(label_img, return_counts=True)\n",
        "            smaller_than_min = len(unique_labels[1][unique_labels[1]<min_number_pixels])\n",
        "            if smaller_than_min>0:\n",
        "                if verbose:\n",
        "                    print(\"reprocessing: \",smaller_than_min,'|',unique_labels[1][unique_labels[1]<min_number_pixels],\"|\",unique_labels[0][unique_labels[1]<min_number_pixels])\n",
        "                k=np.min(label_img)\n",
        "                label_img_max=np.max(label_img)\n",
        "                vizinhos = get_neighbors(label_img)\n",
        "            else:\n",
        "                break\n",
        "\n",
        "    label_img = label(label_img, connectivity=1)\n",
        "    return label_img\n",
        "\n",
        "def segment_slic(img, save_image_name_path, filename):\n",
        "#     segments = slic(img, n_segments=int(img.shape[0]*img.shape[1]/1400), compactness=5, sigma=1, start_label=1)\n",
        "#     np.savez(save_image_name_path.replace('.tif','_segments_slic01.npz'),segments)\n",
        "#     segments = slic(img, n_segments=int(img.shape[0]*img.shape[1]/700), compactness=5, sigma=1, start_label=1)\n",
        "#     np.savez(save_image_name_path.replace('.tif','_segments_slic02.npz'),segments)\n",
        "#     segments = slic(img, n_segments=int(img.shape[0]*img.shape[1]/500), compactness=5, sigma=1, start_label=1)\n",
        "#     np.savez(save_image_name_path.replace('.tif','_segments_slic03.npz'),segments)\n",
        "#     segments = slic(img, n_segments=int(img.shape[0]*img.shape[1]/350), compactness=5, sigma=1, start_label=1)\n",
        "#     np.savez(save_image_name_path.replace('.tif','_segments_slic04.npz'),segments)\n",
        "#     segments = slic(img, n_segments=int(img.shape[0]*img.shape[1]/230), compactness=5, sigma=1, start_label=1)\n",
        "#     np.savez(save_image_name_path.replace('.tif','_segments_slic05.npz'),segments)\n",
        "    segments = slic(img, n_segments=int(img.shape[0]*img.shape[1]/170), compactness=5, sigma=1, start_label=1)\n",
        "    np.savez(save_image_name_path.replace('.tif','_segments_slic06.npz'),segments)\n",
        "    print('SLIC done', filename)\n",
        "\n",
        "def segment_quick(img, save_image_name_path, filename):\n",
        "#     segments = quickshift(img, kernel_size=2, max_dist=50, ratio=0.5)\n",
        "#     np.savez(save_image_name_path.replace('.tif','_segments_quick01.npz'),segments)\n",
        "    segments = quickshift(img, kernel_size=3, max_dist=50, ratio=0.5)\n",
        "    np.savez(save_image_name_path.replace('.tif','_segments_quick02.npz'),segments)\n",
        "#     segments = quickshift(img, kernel_size=4, max_dist=50, ratio=0.5)\n",
        "#     np.savez(save_image_name_path.replace('.tif','_segments_quick03.npz'),segments)\n",
        "#     segments = quickshift(img, kernel_size=5, max_dist=50, ratio=0.5)\n",
        "#     np.savez(save_image_name_path.replace('.tif','_segments_quick04.npz'),segments)\n",
        "    print('Quick done', filename)\n",
        "\n",
        "def segment_felz(img, save_image_name_path, filename):\n",
        "    segments = felzenszwalb(img, scale=50, sigma=0.5, min_size=50)\n",
        "    np.savez(save_image_name_path.replace('.tif','_segments_fz01.npz'),segments)\n",
        "    segments = felzenszwalb(img, scale=100, sigma=0.5, min_size=50)\n",
        "    np.savez(save_image_name_path.replace('.tif','_segments_fz02.npz'),segments)\n",
        "#     segments = felzenszwalb(img, scale=200, sigma=0.5, min_size=50)\n",
        "#     np.savez(save_image_name_path.replace('.tif','_segments_fz03.npz'),segments)\n",
        "    segments = felzenszwalb(img, scale=400, sigma=0.5, min_size=50)\n",
        "    np.savez(save_image_name_path.replace('.tif','_segments_fz04.npz'),segments)\n",
        "    segments = felzenszwalb(img, scale=50, sigma=0.5, min_size=100)\n",
        "    np.savez(save_image_name_path.replace('.tif','_segments_fz05.npz'),segments)\n",
        "    segments = felzenszwalb(img, scale=100, sigma=0.5, min_size=100)\n",
        "    np.savez(save_image_name_path.replace('.tif','_segments_fz06.npz'),segments)\n",
        "#     segments = felzenszwalb(img, scale=50, sigma=0.7, min_size=50)\n",
        "#     np.savez(save_image_name_path.replace('.tif','_segments_fz07.npz'),segments)\n",
        "#     segments = felzenszwalb(img, scale=100, sigma=0.7, min_size=50)\n",
        "#     np.savez(save_image_name_path.replace('.tif','_segments_fz08.npz'),segments)\n",
        "#     segments = felzenszwalb(img, scale=200, sigma=0.7, min_size=50)\n",
        "#     np.savez(save_image_name_path.replace('.tif','_segments_fz09.npz'),segments)\n",
        "#     segments = felzenszwalb(img, scale=400, sigma=0.7, min_size=50)\n",
        "#     np.savez(save_image_name_path.replace('.tif','_segments_fz10.npz'),segments)\n",
        "#     segments = felzenszwalb(img, scale=50, sigma=0.7, min_size=100)\n",
        "#     np.savez(save_image_name_path.replace('.tif','_segments_fz11.npz'),segments)\n",
        "#     segments = felzenszwalb(img, scale=100, sigma=0.7, min_size=100)\n",
        "#     np.savez(save_image_name_path.replace('.tif','_segments_fz12.npz'),segments)\n",
        "    print('Felzenszwalb done', filename)\n",
        "\n",
        "def segment_felz_slic(original_img, chunk_size,distance,min_number_pixels, dataset, filename, save_image_name_path):\n",
        "#     final_segments = np.zeros((original_img.shape[0],original_img.shape[1]),dtype=np.int32)\n",
        "#     for k in range(0,math.ceil(final_segments.shape[0]/chunk_size)):\n",
        "#         for l in range(0,math.ceil(final_segments.shape[1]/chunk_size)):\n",
        "#             img = original_img[k*chunk_size:(k+1)*chunk_size,l*chunk_size:(l+1)*chunk_size]\n",
        "#             segments = join_segmentations(slic(img, n_segments=int(img.shape[0]*img.shape[1]/2000), compactness=5, sigma=1, start_label=1), felzenszwalb(img, scale=200, sigma=0.7, min_size=200))\n",
        "#             segments = join_segments(segments, img, dataset, filename, min_number_pixels=min_number_pixels, distance=distance)\n",
        "#             final_segments[k*chunk_size:(k+1)*chunk_size,l*chunk_size:(l+1)*chunk_size] = segments+1+np.max(final_segments)\n",
        "#     segments = label(final_segments, connectivity=1)\n",
        "#     np.savez(save_image_name_path.replace('.tif','_segments_fz_slic01_'+distance+'_'+str(min_number_pixels)+'.npz'),segments)\n",
        "\n",
        "    final_segments = np.zeros((original_img.shape[0],original_img.shape[1]),dtype=np.int32)\n",
        "    for k in range(0,math.ceil(final_segments.shape[0]/chunk_size)):\n",
        "        for l in range(0,math.ceil(final_segments.shape[1]/chunk_size)):\n",
        "            img = original_img[k*chunk_size:(k+1)*chunk_size,l*chunk_size:(l+1)*chunk_size]\n",
        "            segments = join_segmentations(slic(img, n_segments=int(img.shape[0]*img.shape[1]/1500), compactness=5, sigma=1, start_label=1), felzenszwalb(img, scale=100, sigma=0.7, min_size=150))\n",
        "            segments = join_segments(segments, img, dataset, filename, min_number_pixels=min_number_pixels, distance=distance)\n",
        "            final_segments[k*chunk_size:(k+1)*chunk_size,l*chunk_size:(l+1)*chunk_size] = segments+1+np.max(final_segments)\n",
        "    segments = label(final_segments, connectivity=1)\n",
        "    np.savez(save_image_name_path.replace('.tif','_segments_fz_slic02_'+distance+'_'+str(min_number_pixels)+'.npz'),segments)\n",
        "\n",
        "#     final_segments = np.zeros((original_img.shape[0],original_img.shape[1]),dtype=np.int32)\n",
        "#     for k in range(0,math.ceil(final_segments.shape[0]/chunk_size)):\n",
        "#         for l in range(0,math.ceil(final_segments.shape[1]/chunk_size)):\n",
        "#             img = original_img[k*chunk_size:(k+1)*chunk_size,l*chunk_size:(l+1)*chunk_size]\n",
        "#             segments = join_segmentations(slic(img, n_segments=int(img.shape[0]*img.shape[1]/1000), compactness=5, sigma=1, start_label=1), felzenszwalb(img, scale=100, sigma=0.7, min_size=150))\n",
        "#             segments = join_segments(segments, img, dataset, filename, min_number_pixels=min_number_pixels, distance=distance)\n",
        "#             final_segments[k*chunk_size:(k+1)*chunk_size,l*chunk_size:(l+1)*chunk_size] = segments+1+np.max(final_segments)\n",
        "#     segments = label(final_segments, connectivity=1)\n",
        "#     np.savez(save_image_name_path.replace('.tif','_segments_fz_slic03_'+distance+'_'+str(min_number_pixels)+'.npz'),segments)\n",
        "\n",
        "    final_segments = np.zeros((original_img.shape[0],original_img.shape[1]),dtype=np.int32)\n",
        "    for k in range(0,math.ceil(final_segments.shape[0]/chunk_size)):\n",
        "        for l in range(0,math.ceil(final_segments.shape[1]/chunk_size)):\n",
        "            img = original_img[k*chunk_size:(k+1)*chunk_size,l*chunk_size:(l+1)*chunk_size]\n",
        "            segments = join_segmentations(slic(img, n_segments=int(img.shape[0]*img.shape[1]/500), compactness=5, sigma=1, start_label=1), felzenszwalb(img, scale=50, sigma=0.7, min_size=100))\n",
        "            segments = join_segments(segments, img, dataset, filename, min_number_pixels=min_number_pixels, distance=distance)\n",
        "            final_segments[k*chunk_size:(k+1)*chunk_size,l*chunk_size:(l+1)*chunk_size] = segments+1+np.max(final_segments)\n",
        "    segments = label(final_segments, connectivity=1)\n",
        "    np.savez(save_image_name_path.replace('.tif','_segments_fz_slic04_'+distance+'_'+str(min_number_pixels)+'.npz'),segments)\n",
        "\n",
        "    print('Felzenszwalb-SLIC done', filename)\n",
        "\n",
        "def segment_quick_slic(original_img, chunk_size,distance,min_number_pixels, dataset, filename, save_image_name_path):\n",
        "#     final_segments = np.zeros((original_img.shape[0],original_img.shape[1]),dtype=np.int32)\n",
        "#     for k in range(0,math.ceil(final_segments.shape[0]/chunk_size)):\n",
        "#         for l in range(0,math.ceil(final_segments.shape[1]/chunk_size)):\n",
        "#             img = original_img[k*chunk_size:(k+1)*chunk_size,l*chunk_size:(l+1)*chunk_size]\n",
        "#             segments = join_segmentations(slic(img, n_segments=int(img.shape[0]*img.shape[1]/2000), compactness=5, sigma=1, start_label=1),quickshift(img, kernel_size=5, max_dist=50, ratio=0.5))\n",
        "#             segments = join_segments(segments, img, dataset, filename, min_number_pixels=min_number_pixels, distance=distance)\n",
        "#             final_segments[k*chunk_size:(k+1)*chunk_size,l*chunk_size:(l+1)*chunk_size] = segments+1+np.max(final_segments)\n",
        "#     segments = label(final_segments, connectivity=1)\n",
        "#     np.savez(save_image_name_path.replace('.tif','_segments_quick_slic01_'+distance+'_'+str(min_number_pixels)+'.npz'),segments)\n",
        "\n",
        "#     final_segments = np.zeros((original_img.shape[0],original_img.shape[1]),dtype=np.int32)\n",
        "#     for k in range(0,math.ceil(final_segments.shape[0]/chunk_size)):\n",
        "#         for l in range(0,math.ceil(final_segments.shape[1]/chunk_size)):\n",
        "#             img = original_img[k*chunk_size:(k+1)*chunk_size,l*chunk_size:(l+1)*chunk_size]\n",
        "#             segments = join_segmentations(slic(img, n_segments=int(img.shape[0]*img.shape[1]/1500), compactness=5, sigma=1, start_label=1),quickshift(img, kernel_size=5, max_dist=50, ratio=0.5))\n",
        "#             segments = join_segments(segments, img, dataset, filename, min_number_pixels=min_number_pixels, distance=distance)\n",
        "#             final_segments[k*chunk_size:(k+1)*chunk_size,l*chunk_size:(l+1)*chunk_size] = segments+1+np.max(final_segments)\n",
        "#     segments = label(final_segments, connectivity=1)\n",
        "#     np.savez(save_image_name_path.replace('.tif','_segments_quick_slic02_'+distance+'_'+str(min_number_pixels)+'.npz'),segments)\n",
        "\n",
        "#     final_segments = np.zeros((original_img.shape[0],original_img.shape[1]),dtype=np.int32)\n",
        "#     for k in range(0,math.ceil(final_segments.shape[0]/chunk_size)):\n",
        "#         for l in range(0,math.ceil(final_segments.shape[1]/chunk_size)):\n",
        "#             img = original_img[k*chunk_size:(k+1)*chunk_size,l*chunk_size:(l+1)*chunk_size]\n",
        "#             segments = join_segmentations(slic(img, n_segments=int(img.shape[0]*img.shape[1]/1000), compactness=5, sigma=1, start_label=1),quickshift(img, kernel_size=5, max_dist=50, ratio=0.5))\n",
        "#             segments = join_segments(segments, img, dataset, filename, min_number_pixels=min_number_pixels, distance=distance)\n",
        "#             final_segments[k*chunk_size:(k+1)*chunk_size,l*chunk_size:(l+1)*chunk_size] = segments+1+np.max(final_segments)\n",
        "#     segments = label(final_segments, connectivity=1)\n",
        "#     np.savez(save_image_name_path.replace('.tif','_segments_quick_slic03_'+distance+'_'+str(min_number_pixels)+'.npz'),segments)\n",
        "\n",
        "#     final_segments = np.zeros((original_img.shape[0],original_img.shape[1]),dtype=np.int32)\n",
        "#     for k in range(0,math.ceil(final_segments.shape[0]/chunk_size)):\n",
        "#         for l in range(0,math.ceil(final_segments.shape[1]/chunk_size)):\n",
        "#             img = original_img[k*chunk_size:(k+1)*chunk_size,l*chunk_size:(l+1)*chunk_size]\n",
        "#             segments = join_segmentations(slic(img, n_segments=int(img.shape[0]*img.shape[1]/500), compactness=5, sigma=1, start_label=1),quickshift(img, kernel_size=5, max_dist=50, ratio=0.5))\n",
        "#             segments = join_segments(segments, img, dataset, filename, min_number_pixels=min_number_pixels, distance=distance)\n",
        "#             final_segments[k*chunk_size:(k+1)*chunk_size,l*chunk_size:(l+1)*chunk_size] = segments+1+np.max(final_segments)\n",
        "#     segments = label(final_segments, connectivity=1)\n",
        "#     np.savez(save_image_name_path.replace('.tif','_segments_quick_slic04_'+distance+'_'+str(min_number_pixels)+'.npz'), segments)\n",
        "    print('Quick-SLIC done', filename)\n",
        "\n",
        "\n",
        "def segment_felz_quick(original_img, chunk_size,distance,min_number_pixels, dataset, filename, save_image_name_path):\n",
        "#     final_segments = np.zeros((original_img.shape[0],original_img.shape[1]),dtype=np.int32)\n",
        "#     for k in range(0,math.ceil(final_segments.shape[0]/chunk_size)):\n",
        "#         for l in range(0,math.ceil(final_segments.shape[1]/chunk_size)):\n",
        "#             img = original_img[k*chunk_size:(k+1)*chunk_size,l*chunk_size:(l+1)*chunk_size]\n",
        "#             segments = join_segmentations(felzenszwalb(img, scale=200, sigma=0.7, min_size=200), quickshift(img, kernel_size=2, max_dist=50, ratio=0.5))\n",
        "#             segments = join_segments(segments, img, dataset, filename, min_number_pixels=min_number_pixels, distance=distance)\n",
        "#             final_segments[k*chunk_size:(k+1)*chunk_size,l*chunk_size:(l+1)*chunk_size] = segments+1+np.max(final_segments)\n",
        "#     segments = label(final_segments, connectivity=1)\n",
        "#     np.savez(save_image_name_path.replace('.tif','_segments_fz_quick01_'+distance+'_'+str(min_number_pixels)+'.npz'),segments)\n",
        "\n",
        "    final_segments = np.zeros((original_img.shape[0],original_img.shape[1]),dtype=np.int32)\n",
        "    for k in range(0,math.ceil(final_segments.shape[0]/chunk_size)):\n",
        "        for l in range(0,math.ceil(final_segments.shape[1]/chunk_size)):\n",
        "            img = original_img[k*chunk_size:(k+1)*chunk_size,l*chunk_size:(l+1)*chunk_size]\n",
        "            segments = join_segmentations(felzenszwalb(img, scale=200, sigma=0.7, min_size=200), quickshift(img, kernel_size=3, max_dist=50, ratio=0.5))\n",
        "            segments = join_segments(segments, img, dataset, filename, min_number_pixels=min_number_pixels, distance=distance)\n",
        "            final_segments[k*chunk_size:(k+1)*chunk_size,l*chunk_size:(l+1)*chunk_size] = segments+1+np.max(final_segments)\n",
        "    segments = label(final_segments, connectivity=1)\n",
        "    np.savez(save_image_name_path.replace('.tif','_segments_fz_quick02_'+distance+'_'+str(min_number_pixels)+'.npz'),segments)\n",
        "\n",
        "#     final_segments = np.zeros((original_img.shape[0],original_img.shape[1]),dtype=np.int32)\n",
        "#     for k in range(0,math.ceil(final_segments.shape[0]/chunk_size)):\n",
        "#         for l in range(0,math.ceil(final_segments.shape[1]/chunk_size)):\n",
        "#             img = original_img[k*chunk_size:(k+1)*chunk_size,l*chunk_size:(l+1)*chunk_size]\n",
        "#             segments = join_segmentations(felzenszwalb(img, scale=200, sigma=0.7, min_size=200), quickshift(img, kernel_size=4, max_dist=50, ratio=0.5))\n",
        "#             segments = join_segments(segments, img, dataset, filename, min_number_pixels=min_number_pixels, distance=distance)\n",
        "#             final_segments[k*chunk_size:(k+1)*chunk_size,l*chunk_size:(l+1)*chunk_size] = segments+1+np.max(final_segments)\n",
        "#     segments = label(final_segments, connectivity=1)\n",
        "#     np.savez(save_image_name_path.replace('.tif','_segments_fz_quick03_'+distance+'_'+str(min_number_pixels)+'.npz'),segments)\n",
        "\n",
        "    final_segments = np.zeros((original_img.shape[0],original_img.shape[1]),dtype=np.int32)\n",
        "    for k in range(0,math.ceil(final_segments.shape[0]/chunk_size)):\n",
        "        for l in range(0,math.ceil(final_segments.shape[1]/chunk_size)):\n",
        "            img = original_img[k*chunk_size:(k+1)*chunk_size,l*chunk_size:(l+1)*chunk_size]\n",
        "            segments = join_segmentations(felzenszwalb(img, scale=200, sigma=0.7, min_size=200), quickshift(img, kernel_size=5, max_dist=50, ratio=0.5))\n",
        "            segments = join_segments(segments, img, dataset, filename, min_number_pixels=min_number_pixels, distance=distance)\n",
        "            final_segments[k*chunk_size:(k+1)*chunk_size,l*chunk_size:(l+1)*chunk_size] = segments+1+np.max(final_segments)\n",
        "    segments = label(final_segments, connectivity=1)\n",
        "    np.savez(save_image_name_path.replace('.tif','_segments_fz_quick04_'+distance+'_'+str(min_number_pixels)+'.npz'),segments)\n",
        "    print('Felzenszwalb-Quick done', filename)"
      ]
    },
    {
      "cell_type": "markdown",
      "metadata": {
        "id": "F9by8ExCWToE"
      },
      "source": [
        "# Carregando Imagem e Máscara"
      ]
    },
    {
      "cell_type": "code",
      "execution_count": null,
      "metadata": {
        "colab": {
          "base_uri": "https://localhost:8080/",
          "height": 1000
        },
        "id": "eN1a0sMVWTR0",
        "outputId": "e020f62a-fa2f-47a7-9921-367295671d2b"
      },
      "outputs": [],
      "source": [
        "# Importar imagem\n",
        "img_original = pv.Image.new_from_file('//content//drive//My Drive//Dados//google_1m_GM_t.tif', access=\"random\")\n",
        "img = img_original.crop(41450,6168,1000,1000).numpy() #Recorte da imagem apenas para testes\n",
        "\n",
        "# Importar máscara\n",
        "mask_img_original = pv.Image.new_from_file(\"//content//drive//My Drive//Dados//mascaras//mascara_pavuna.tif\", access=\"random\")\n",
        "mask_img = mask_img_original.crop(41450,6168,1000,1000).numpy() #Recorte igual a imagem orignal\n",
        "\n",
        "#Criando um mapa de cores para máscara\n",
        "# {0: 'Não favela', 1: 'Favela'}\n",
        "# mapa_cores = {0:'empty',  1: 'red'}\n",
        "\n",
        "mapa_cores = {\n",
        "    0: (0, 0, 0, 0),        # vazio\n",
        "    1: (1, 0, 0, 1)         # vermelho\n",
        "}\n",
        "\n",
        "# Criar uma lista de cores baseada no dicionário\n",
        "lista_cores = [mapa_cores[x] for x in [0,1]]\n",
        "cmap_ = ListedColormap(lista_cores)\n",
        "\n",
        "## Criação da figura e dos subplots\n",
        "fig, axs = plt.subplots(nrows=1, ncols=3, figsize=(15, 15))\n",
        "\n",
        "## Adicionando as imagens aos subplots\n",
        "axs[0].imshow(img)\n",
        "axs[0].set_title('Imagem de Satélite Original')\n",
        "\n",
        "axs[1].imshow(mask_img, cmap=cmap_)\n",
        "axs[1].set_title('Máscara/ Label')\n",
        "\n",
        "# Adicionando a segunda plotagem da mesma imagem no mesmo eixo axs[1] sobreposta por axs[0]\n",
        "axs[2].imshow(img)\n",
        "axs[2].set_title('Imagem de Satélite/Máscara')\n",
        "\n",
        "axs[2] = axs[2].twinx()\n",
        "axs[2].imshow(mask_img,cmap=cmap_, alpha=0.5)\n",
        "\n",
        "plt.show()"
      ]
    },
    {
      "cell_type": "markdown",
      "metadata": {
        "id": "REfkXtzkipxF"
      },
      "source": [
        "# Incremento de Features na imagem"
      ]
    },
    {
      "cell_type": "markdown",
      "metadata": {
        "id": "-Bxuoy4PQNP4"
      },
      "source": [
        "## Funções para criar features\n"
      ]
    },
    {
      "cell_type": "code",
      "execution_count": 6,
      "metadata": {
        "id": "okiFujj-iPR1"
      },
      "outputs": [],
      "source": [
        "#Função para indices RGB\n",
        "def compute_indexes(bands):\n",
        "    return_indexes = {}\n",
        "    B1 = R = bands[:,:,2] #Vermelho\n",
        "    B2 = G = bands[:,:,1] #Verde\n",
        "    B3 = B = bands[:,:,0] #Azul\n",
        "\n",
        "    return_indexes['SSI']=(2*G + R + B) #spatial shape index\n",
        "\n",
        "    return return_indexes\n",
        "\n",
        "#Função para calcular a média do superpixel\n",
        "def mean_image(image,label):\n",
        "  im_rp  = image.reshape((image.shape[0]*image.shape[1],image.shape[2]))\n",
        "  sli_1d = np.reshape(label,-1)\n",
        "  uni    = np.unique(sli_1d)\n",
        "  uu     = np.zeros(im_rp.shape)\n",
        "\n",
        "  for i in uni:\n",
        "    loc = np.where(sli_1d==i)[0]\n",
        "    mm  = np.mean(im_rp[loc,:],axis=0)\n",
        "    uu[loc,:] = mm\n",
        "\n",
        "  superpixel = np.reshape(uu,[image.shape[0],image.shape[1],image.shape[2]]).astype('uint8')\n",
        "\n",
        "  return superpixel\n",
        "\n",
        "#Função para calcular o desvio padrão do superpixel\n",
        "def std_image(image,label):\n",
        "  im_rp  = image.reshape((image.shape[0]*image.shape[1],image.shape[2]))\n",
        "  sli_1d = np.reshape(label,-1)\n",
        "  uni    = np.unique(sli_1d)\n",
        "  uu     = np.zeros(im_rp.shape)\n",
        "\n",
        "  for i in uni:\n",
        "    loc = np.where(sli_1d==i)[0]\n",
        "    mm  = np.std(im_rp[loc,:],axis=0)\n",
        "    uu[loc,:] = mm\n",
        "\n",
        "  superpixel = np.reshape(uu,[image.shape[0],image.shape[1],image.shape[2]]).astype('uint8')\n",
        "\n",
        "  return superpixel\n",
        "\n",
        "#Função para calcular a mediana do superpixel\n",
        "def median_image(image,label):\n",
        "  im_rp  = image.reshape((image.shape[0]*image.shape[1],image.shape[2]))\n",
        "  sli_1d = np.reshape(label,-1)\n",
        "  uni    = np.unique(sli_1d)\n",
        "  uu     = np.zeros(im_rp.shape)\n",
        "\n",
        "  for i in uni:\n",
        "    loc = np.where(sli_1d==i)[0]\n",
        "    mm  = np.median(im_rp[loc,:],axis=0)\n",
        "    uu[loc,:] = mm\n",
        "\n",
        "  superpixel = np.reshape(uu,[image.shape[0],image.shape[1],image.shape[2]]).astype('uint8')\n",
        "\n",
        "  return superpixel\n",
        "\n",
        "#Função para calcular o máximo do superpixel\n",
        "def max_image(image,label):\n",
        "  im_rp  = image.reshape((image.shape[0]*image.shape[1],image.shape[2]))\n",
        "  sli_1d = np.reshape(label,-1)\n",
        "  uni    = np.unique(sli_1d)\n",
        "  uu     = np.zeros(im_rp.shape)\n",
        "\n",
        "  for i in uni:\n",
        "    loc = np.where(sli_1d==i)[0]\n",
        "    mm  = np.max(im_rp[loc,:],axis=0)\n",
        "    uu[loc,:] = mm\n",
        "\n",
        "  superpixel = np.reshape(uu,[image.shape[0],image.shape[1],image.shape[2]]).astype('uint8')\n",
        "\n",
        "  return superpixel\n",
        "\n",
        "\n",
        "#Função para criar máscara de entropia da imagem\n",
        "def entropy_image(mask_image, n_disk=10):\n",
        "    rng = np.random.default_rng()\n",
        "    noise_mask = mask_image\n",
        "\n",
        "    noise = (noise_mask * rng.random(noise_mask.shape) - 0.5 * noise_mask).astype(np.uint8)\n",
        "\n",
        "    noise = noise.astype(np.uint8)\n",
        "    image = noise + 250\n",
        "\n",
        "    entropy_img = entropy(image, disk(n_disk))\n",
        "\n",
        "    return entropy_img\n",
        "\n",
        "#Função para criar o Superpixel\n",
        "def superpixel_image_AllBands(image, min_number_pixels = 250, distance = 'mean', verbose=False):\n",
        "\n",
        "    s2 = felzenszwalb(image, scale=100, sigma=0.8, min_size=min_number_pixels)\n",
        "\n",
        "    if verbose:\n",
        "        print(f'Felzenszwalb number of segments: {len(np.unique(s2))}')\n",
        "    s1 = slic(image, n_segments=int(min_number_pixels/3), compactness=6, sigma=2, start_label=0)\n",
        "\n",
        "    if verbose:\n",
        "        print(f'SLIC number of segments: {len(np.unique(s1))}')\n",
        "    final_segments = join_segmentations(s1, s2)\n",
        "\n",
        "    #if verbose:\n",
        "    #    print(f'Final number of segments: {len(np.unique(final_segments))}')\n",
        "    #final_segments = join_segments(final_segments, image, min_number_pixels=min_number_pixels, distance=distance, verbose=False)\n",
        "\n",
        "    #if verbose:\n",
        "    #    print(f'Final number of segments: {len(np.unique(final_segments))}')\n",
        "\n",
        "    return s1,s2, final_segments"
      ]
    },
    {
      "cell_type": "markdown",
      "metadata": {
        "id": "CFk9YHqnQUPw"
      },
      "source": [
        "## Adicionando as Features"
      ]
    },
    {
      "cell_type": "code",
      "execution_count": null,
      "metadata": {
        "colab": {
          "base_uri": "https://localhost:8080/"
        },
        "id": "T8mLJWT9Hlon",
        "outputId": "20ba1231-990e-4811-c425-b6c5a4a763ab"
      },
      "outputs": [],
      "source": [
        "superpixel_slic, superpixel_fz, superpixel_final = superpixel_image_AllBands(img,min_number_pixels=200,verbose=True)"
      ]
    },
    {
      "cell_type": "code",
      "execution_count": null,
      "metadata": {
        "colab": {
          "base_uri": "https://localhost:8080/",
          "height": 1000
        },
        "id": "i2hjthY6Uy0Y",
        "outputId": "44ffc3f1-a888-49ab-ec43-16e6e6635e63"
      },
      "outputs": [],
      "source": [
        "fig, ax = plt.subplots(2, 2, figsize=(10, 10), sharex=True, sharey=True)\n",
        "\n",
        "ax[0, 0].imshow(mark_boundaries(img, superpixel_fz))\n",
        "ax[0, 0].set_title(\"Felzenszwalbs's method\")\n",
        "ax[0, 1].imshow(mark_boundaries(img, superpixel_slic))\n",
        "ax[0, 1].set_title('SLIC')\n",
        "ax[1, 0].imshow(mark_boundaries(img, superpixel_final))\n",
        "ax[1, 0].set_title('Final')\n",
        "ax[1, 1].imshow(mask_img)\n",
        "ax[1, 1].set_title('Máscara')\n",
        "\n",
        "\n",
        "for a in ax.ravel():\n",
        "    a.set_axis_off()\n",
        "\n",
        "plt.tight_layout()\n",
        "plt.show()"
      ]
    },
    {
      "cell_type": "code",
      "execution_count": 9,
      "metadata": {
        "id": "ByGmH1chIDRz"
      },
      "outputs": [],
      "source": [
        "#Calculando medidas estatísticas para a junção dos superpixel de Felzenszwalbs e SLIC separadamente\n",
        "##Felzenszwalbs\n",
        "superpixel_fz_mean = mean_image(img,superpixel_fz)\n",
        "superpixel_fz_median = median_image(img,superpixel_fz)\n",
        "superpixel_fz_std = std_image(img,superpixel_fz)\n",
        "superpixel_fz_entropy = entropy_image(superpixel_fz_median[:,:,0])\n",
        "\n",
        "##SLIC\n",
        "superpixel_slic_mean = mean_image(img,superpixel_slic)\n",
        "superpixel_slic_median = median_image(img,superpixel_slic)\n",
        "superpixel_slic_std = std_image(img,superpixel_slic)\n",
        "superpixel_slic_entropy = entropy_image(superpixel_slic_median[:,:,0])\n",
        "\n",
        "#Calculando o SSI\n",
        "ssi = compute_indexes(img)\n",
        "ssi = ssi['SSI']\n",
        "\n",
        "#Criando o vetor contendo todas as Features\n",
        "##Felzenszwalbs\n",
        "features = np.concatenate((img,superpixel_fz_mean), axis=2)\n",
        "features = np.concatenate((features,superpixel_fz_median), axis=2)\n",
        "features = np.concatenate((features,superpixel_fz_std), axis=2)\n",
        "features = np.dstack((features,superpixel_fz_entropy))\n",
        "\n",
        "##Slic\n",
        "features = np.concatenate((features,superpixel_slic_mean), axis=2)\n",
        "features = np.concatenate((features,superpixel_slic_median), axis=2)\n",
        "features = np.concatenate((features,superpixel_slic_std), axis=2)\n",
        "features = np.dstack((features,superpixel_slic_entropy))\n",
        "\n",
        "##SSI\n",
        "features = np.dstack((features,ssi))"
      ]
    },
    {
      "cell_type": "code",
      "execution_count": 10,
      "metadata": {
        "id": "1BZAnUNIJQ3j"
      },
      "outputs": [],
      "source": [
        "#Convertendo a imagem para vetor\n",
        "feature_vetor = features.reshape(features.shape[0]*features.shape[1],features.shape[2])\n",
        "\n",
        "#Convertendo a máscara para vetor\n",
        "mask_img_vetor = mask_img.reshape(mask_img.shape[0]*mask_img.shape[1],1)"
      ]
    },
    {
      "cell_type": "code",
      "execution_count": 11,
      "metadata": {
        "id": "Wg2ot5_dWl_s"
      },
      "outputs": [],
      "source": [
        "# Dividir o dataset em conjuntos de treino e teste (60% treino, 40% teste)\n",
        "X = feature_vetor\n",
        "y = mask_img_vetor\n",
        "\n",
        "X_treino, X_teste, y_treino, y_teste = train_test_split( X, y, test_size=0.4, shuffle=True, random_state=42)"
      ]
    },
    {
      "cell_type": "markdown",
      "metadata": {
        "id": "f_KViOFdYCnK"
      },
      "source": [
        "# Modelos"
      ]
    },
    {
      "cell_type": "code",
      "execution_count": 12,
      "metadata": {
        "id": "y5vy8cr_YF9m"
      },
      "outputs": [],
      "source": [
        "modelos = []"
      ]
    },
    {
      "cell_type": "markdown",
      "metadata": {
        "id": "mJ4Z8qDZYIhO"
      },
      "source": [
        "## Random Forest"
      ]
    },
    {
      "cell_type": "code",
      "execution_count": 13,
      "metadata": {
        "id": "nIRhDCFNYIM5"
      },
      "outputs": [],
      "source": [
        "nome = 'RandomForest'\n",
        "modelo = RandomForestClassifier(random_state=42)\n",
        "grid = {\n",
        "    'modelo__max_depth':[int(x) for x in np.linspace(start=1, stop=3, num=3)],\n",
        "    'modelo__n_estimators': [int(x) for x in np.linspace(start=50, stop=200, num=4)],\n",
        "    'modelo__criterion': ('gini', 'entropy'),\n",
        "}\n",
        "\n",
        "modelos.append({'nome': nome, 'modelo': modelo, 'grid': grid})"
      ]
    },
    {
      "cell_type": "markdown",
      "metadata": {
        "id": "3etXMNddaXWd"
      },
      "source": [
        "## LigthGBM"
      ]
    },
    {
      "cell_type": "code",
      "execution_count": 14,
      "metadata": {
        "id": "VuWuqrI2abzp"
      },
      "outputs": [],
      "source": [
        "nome = 'LGBMClassifier'\n",
        "modelo = lgb.LGBMClassifier(random_state=42)\n",
        "grid = {\n",
        "    'modelo__num_leaves': [int(x) for x in np.linspace(start=5, stop=50,num=4)],\n",
        "    'modelo__reg_alpha': [0, 1e-1, 1],\n",
        "    'modelo__reg_lambda': [0, 1e-1, 1],\n",
        "}\n",
        "\n",
        "modelos.append({'nome': nome, 'modelo': modelo, 'grid': grid})"
      ]
    },
    {
      "cell_type": "markdown",
      "metadata": {
        "id": "b-A3OgTbbRMM"
      },
      "source": [
        "## GradientBoost"
      ]
    },
    {
      "cell_type": "code",
      "execution_count": 15,
      "metadata": {
        "id": "BX931yOrbQ1O"
      },
      "outputs": [],
      "source": [
        "nome = 'GradientBoost'\n",
        "modelo = GradientBoostingClassifier(random_state=42)\n",
        "grid = {\n",
        "    'modelo__n_estimators': [int(x) for x in np.linspace(start=50, stop=200, num=4)],\n",
        "    'modelo__learning_rate': [round(x,3) for x in np.linspace(start = 0.1, stop=1.5,num=4)],\n",
        "}\n",
        "\n",
        "modelos.append({'nome': nome, 'modelo': modelo, 'grid': grid})"
      ]
    },
    {
      "cell_type": "markdown",
      "metadata": {
        "id": "T3ZdvMI-c80M"
      },
      "source": [
        "## K-means\n"
      ]
    },
    {
      "cell_type": "code",
      "execution_count": 16,
      "metadata": {
        "id": "IxBMZlwzc8dR"
      },
      "outputs": [],
      "source": [
        "nome = 'Kmeans'\n",
        "modelo = KMeans(random_state=42)\n",
        "grid = {\n",
        "    'modelo__n_clusters': [int(x) for x in np.linspace(start=1, stop=2, num=2)],\n",
        "    'modelo__max_iter': [int(x) for x in np.linspace(start=50, stop=500, num=10)],\n",
        "    'modelo__algorithm': ['lloyd', 'elkan'],\n",
        "}\n",
        "\n",
        "modelos.append({'nome': nome, 'modelo': modelo, 'grid': grid})"
      ]
    },
    {
      "cell_type": "markdown",
      "metadata": {
        "id": "VWGCVnUHdfii"
      },
      "source": [
        "## Naive-Bayes"
      ]
    },
    {
      "cell_type": "code",
      "execution_count": 17,
      "metadata": {
        "id": "shS6tpxcefjM"
      },
      "outputs": [],
      "source": [
        "nome = 'GaussianNB'\n",
        "modelo = GaussianNB()\n",
        "grid = {\n",
        "    'modelo__n_features_in_': [int(x) for x in np.linspace(start=1, stop=20, num=3)],\n",
        "    'modelo__epsilon_': [int(x) for x in np.linspace(start=1, stop=50, num=5)],\n",
        "}\n",
        "\n",
        "modelos.append({'nome': nome, 'modelo': modelo, 'grid': grid})"
      ]
    },
    {
      "cell_type": "markdown",
      "metadata": {
        "id": "XHRD4edCfipF"
      },
      "source": [
        "## Logistic"
      ]
    },
    {
      "cell_type": "code",
      "execution_count": 18,
      "metadata": {
        "id": "baQ6xDPlf8qn"
      },
      "outputs": [],
      "source": [
        "nome = 'LogisticRegression'\n",
        "modelo = LogisticRegression(random_state=42)\n",
        "grid = {\n",
        "    'modelo__penalty': ['l2', 'l1', 'elasticnet'],\n",
        "    'modelo__solver': ['lbfgs', 'sag'],\n",
        "}\n",
        "\n",
        "modelos.append({'nome': nome, 'modelo': modelo, 'grid': grid})"
      ]
    },
    {
      "cell_type": "markdown",
      "metadata": {
        "id": "upVsLCjga8QV"
      },
      "source": [
        "## MLPClassifier"
      ]
    },
    {
      "cell_type": "code",
      "execution_count": 19,
      "metadata": {
        "id": "KmoYUVXXa-8Z"
      },
      "outputs": [],
      "source": [
        "nome = 'MLPClassifier'\n",
        "modelo = MLPClassifier(random_state=42)\n",
        "grid = {\n",
        "    'modelo__max_iter': [int(x) for x in np.linspace(start=50, stop=300,num=4)],\n",
        "}\n",
        "\n",
        "modelos.append({'nome': nome, 'modelo': modelo, 'grid': grid})"
      ]
    },
    {
      "cell_type": "code",
      "execution_count": null,
      "metadata": {
        "id": "XtaAUrIXN7bc"
      },
      "outputs": [],
      "source": [
        "modelos_nn = []"
      ]
    },
    {
      "cell_type": "code",
      "execution_count": null,
      "metadata": {
        "id": "9VxrpYff6QbA"
      },
      "outputs": [],
      "source": [
        "img_treino, img_teste = img/255, mask_img/255"
      ]
    },
    {
      "cell_type": "markdown",
      "metadata": {
        "id": "EFvWFQ6RQmDX"
      },
      "source": [
        "# Execução dos Modelos"
      ]
    },
    {
      "cell_type": "markdown",
      "metadata": {
        "id": "dUUVs6_ogkyO"
      },
      "source": [
        "## Treino"
      ]
    },
    {
      "cell_type": "code",
      "execution_count": 20,
      "metadata": {
        "id": "UF_5zmxsgmWJ"
      },
      "outputs": [],
      "source": [
        "def train_test(mat, X, y):\n",
        "    modelo = mat['modelo']\n",
        "    nome = mat['nome']\n",
        "    grid = mat['grid']\n",
        "\n",
        "    print(f'Começando {nome}.')\n",
        "    ini = time.time()\n",
        "\n",
        "\n",
        "    pipe = Pipeline([\n",
        "        ('modelo', modelo)\n",
        "    ])\n",
        "\n",
        "    gscv = GridSearchCV(\n",
        "        pipe,\n",
        "        param_grid = grid,\n",
        "        scoring = 'f1',\n",
        "        verbose = 5,\n",
        "        n_jobs = -1,\n",
        "    )\n",
        "\n",
        "    rscv = gscv.fit(X,y.ravel())\n",
        "\n",
        "    fim = time.time()\n",
        "\n",
        "    print(f'Término {nome} | Score: {round(rscv.best_score_,3)} | Time: {rscv.refit_time_}')\n",
        "\n",
        "    return {'name':nome, 'object': rscv}"
      ]
    },
    {
      "cell_type": "code",
      "execution_count": null,
      "metadata": {
        "colab": {
          "base_uri": "https://localhost:8080/",
          "height": 1000
        },
        "id": "Kh44I0vvhNxq",
        "outputId": "ffb52fec-7377-4e47-f387-d78ecd1c9810"
      },
      "outputs": [],
      "source": [
        "%%time\n",
        "resultados = [train_test(mat, X_treino, y_treino) for mat in modelos]\n",
        "\n",
        "info_modelo = []\n",
        "info_values = []\n",
        "info_time = []\n",
        "\n",
        "for i, v in enumerate(resultados):\n",
        "\n",
        "    info_modelo.append(resultados[i]['name'])\n",
        "    info_values.append(round(resultados[i]['object'].best_score_,3))\n",
        "    info_time.append(resultados[i]['object'].refit_time_)\n",
        "\n",
        "dados = pd.DataFrame({'Model': info_modelo, 'Score': info_values, 'Time': info_time})\n",
        "fig = ff.create_table(dados, height_constant=20)\n",
        "fig.show()"
      ]
    },
    {
      "cell_type": "markdown",
      "metadata": {
        "id": "cmwJM5eVpiQ1"
      },
      "source": [
        "## Validação"
      ]
    },
    {
      "cell_type": "code",
      "execution_count": null,
      "metadata": {
        "colab": {
          "base_uri": "https://localhost:8080/",
          "height": 699
        },
        "id": "ZEIoHD54ll1j",
        "outputId": "19da1982-613f-4862-80e0-cd87b0461397"
      },
      "outputs": [],
      "source": [
        "info_modelo = []\n",
        "info_time = []\n",
        "modelo_final = []\n",
        "resultado = pd.DataFrame(columns=['modelo','F1 Grid', 'Acurácia','F1 Score','Precisao', 'Recall'])\n",
        "resultado_roc = pd.DataFrame(columns=['classificadores', 'fpr','tpr','auc'])\n",
        "\n",
        "for i, v in enumerate(resultados):\n",
        "\n",
        "    info_modelo.append(resultados[i]['name'])\n",
        "    info_time.append(resultados[i]['object'].refit_time_)\n",
        "    info_values = round(resultados[i]['object'].best_score_,3)\n",
        "\n",
        "    model = resultados[i]['object'].best_estimator_\n",
        "    model.fit(X_treino, y_treino.ravel())\n",
        "\n",
        "    y_pred = model.predict(X_teste)\n",
        "    #y_proba = model.predict_proba(X_teste)[:,1]\n",
        "\n",
        "    acc = round(accuracy_score(y_teste, y_pred),3)\n",
        "    f1 = round(f1_score(y_teste, y_pred),3)\n",
        "    pc = round(precision_score(y_teste, y_pred),3)\n",
        "    re = round(recall_score(y_teste, y_pred),3)\n",
        "\n",
        "    resultado = resultado._append({'modelo':resultados[i]['name'],\n",
        "                            'F1 Grid': info_values,\n",
        "                            'Acurácia':acc,\n",
        "                            'F1 Score':f1,\n",
        "                            'Precisao':pc,\n",
        "                            'Recall': re}, ignore_index=True)\n",
        "\n",
        "    modelo_final.append({'nome': resultados[i]['name'], 'modelo': model})\n",
        "\n",
        "    fpr, tpr, _ = roc_curve(y_teste,  y_pred)\n",
        "    auc = roc_auc_score(y_teste, y_pred)\n",
        "\n",
        "    resultado_roc = resultado_roc._append({'classificadores':resultados[i]['name'],\n",
        "                                        'fpr':fpr,\n",
        "                                        'tpr':tpr,\n",
        "                                        'auc':auc}, ignore_index=True)\n",
        "\n",
        "\n",
        "resultado_roc.set_index('classificadores', inplace=True)\n",
        "fig = ff.create_table(resultado, height_constant=20)\n",
        "fig.show()"
      ]
    },
    {
      "cell_type": "markdown",
      "metadata": {
        "id": "1yRvMlXprsUf"
      },
      "source": [
        "## Curva ROC"
      ]
    },
    {
      "cell_type": "code",
      "execution_count": 24,
      "metadata": {
        "colab": {
          "base_uri": "https://localhost:8080/",
          "height": 572
        },
        "id": "4l-gwilWrvv8",
        "outputId": "1cc819ce-acd0-4945-cf09-f8b66f8b0425"
      },
      "outputs": [
        {
          "data": {
            "image/png": "[encoded data removed]",
            "text/plain": [
              "<Figure size 1200x600 with 1 Axes>"
            ]
          },
          "metadata": {},
          "output_type": "display_data"
        }
      ],
      "source": [
        "fig = plt.figure(figsize=(12,6))\n",
        "\n",
        "for i in resultado_roc.index:\n",
        "    plt.plot(resultado_roc.loc[i]['fpr'],\n",
        "             resultado_roc.loc[i]['tpr'],\n",
        "             label=\"{}, AUC={:.3f}\".format(i, resultado_roc.loc[i]['auc']))\n",
        "\n",
        "plt.plot([0,1], [0,1], color='orange', linestyle='--')\n",
        "\n",
        "plt.xticks(np.arange(0.0, 1.1, step=0.1))\n",
        "plt.xlabel(\"Taxa de Falso Positivo\", fontsize=15)\n",
        "\n",
        "plt.yticks(np.arange(0.0, 1.1, step=0.1))\n",
        "plt.ylabel(\"Taxa de Verdadeiro Positivo\", fontsize=15)\n",
        "\n",
        "plt.title('Curva ROC', fontweight='bold', fontsize=15)\n",
        "plt.legend(prop={'size':13}, loc='lower right')\n",
        "\n",
        "#plt.savefig('roc_AGNS.png', format='png', dpi=100)\n",
        "plt.show()"
      ]
    },
    {
      "cell_type": "markdown",
      "metadata": {
        "id": "Fz3QYHwC63OG"
      },
      "source": [
        "## Comparação Visual"
      ]
    },
    {
      "cell_type": "code",
      "execution_count": 25,
      "metadata": {
        "id": "doHKxaR066PK"
      },
      "outputs": [],
      "source": [
        "pred_modelo = []\n",
        "\n",
        "for i in range(len(modelo_final)):\n",
        "\n",
        "    y_pred = modelo_final[i]['modelo'].predict(feature_vetor)\n",
        "\n",
        "    pred_modelo.append({'nome': modelo_final[i]['nome'], 'pred': y_pred})"
      ]
    },
    {
      "cell_type": "code",
      "execution_count": null,
      "metadata": {
        "colab": {
          "base_uri": "https://localhost:8080/",
          "height": 1000
        },
        "id": "saKycP7qBRZl",
        "outputId": "dd0d6407-6084-4187-c82b-50819d8517f0"
      },
      "outputs": [],
      "source": [
        "fig, ax = plt.subplots(4, 2, figsize=(15, 15), sharex=True, sharey=True)\n",
        "\n",
        "ax[0, 0].imshow(mask_img, cmap=cmap_)\n",
        "ax[0, 0].set_title(\"Máscara\")\n",
        "ax[0, 1].imshow(np.reshape(pred_modelo[0]['pred'],(img.shape[0],img.shape[1])), cmap=cmap_)\n",
        "ax[0, 1].set_title(pred_modelo[0]['nome'])\n",
        "ax[1, 0].imshow(np.reshape(pred_modelo[1]['pred'],(img.shape[0],img.shape[1])), cmap=cmap_)\n",
        "ax[1, 0].set_title(pred_modelo[1]['nome'])\n",
        "ax[1, 1].imshow(np.reshape(pred_modelo[2]['pred'],(img.shape[0],img.shape[1])), cmap=cmap_)\n",
        "ax[1, 1].set_title(pred_modelo[2]['nome'])\n",
        "ax[2, 0].imshow(np.reshape(pred_modelo[3]['pred'],(img.shape[0],img.shape[1])), cmap=cmap_)\n",
        "ax[2, 0].set_title(pred_modelo[3]['nome'])\n",
        "ax[2, 1].imshow(np.reshape(pred_modelo[4]['pred'],(img.shape[0],img.shape[1])), cmap=cmap_)\n",
        "ax[2, 1].set_title(pred_modelo[4]['nome'])\n",
        "ax[3, 0].imshow(np.reshape(pred_modelo[5]['pred'],(img.shape[0],img.shape[1])), cmap=cmap_)\n",
        "ax[3, 0].set_title(pred_modelo[5]['nome'])\n",
        "ax[3, 1].imshow(np.reshape(pred_modelo[6]['pred'],(img.shape[0],img.shape[1])), cmap=cmap_)\n",
        "ax[3, 1].set_title(pred_modelo[6]['nome'])\n",
        "\n",
        "\n",
        "for a in ax.ravel():\n",
        "    a.set_axis_off()\n",
        "\n",
        "plt.tight_layout()\n",
        "plt.show()"
      ]
    },
    {
      "cell_type": "code",
      "execution_count": null,
      "metadata": {
        "colab": {
          "base_uri": "https://localhost:8080/"
        },
        "id": "TSPwN123KOGM",
        "outputId": "2e1dfea4-9625-47df-c902-ed5541d3ffe0"
      },
      "outputs": [],
      "source": [
        "iou = MeanIoU(num_classes=2)  # n_classes é o número de classes na sua segmentação\n",
        "\n",
        "for i in range(len(pred_modelo)):\n",
        "  iou.update_state(mask_img_vetor,pred_modelo[i]['pred'])\n",
        "  mIoU = iou.result().numpy()\n",
        "  print(\"IoU\",f\"{pred_modelo[i]['nome']} =\", f\"{mIoU*100:.2f}%\")"
      ]
    }
  ],
  "metadata": {
    "colab": {
      "collapsed_sections": [
        "jXBuujMxXTBi",
        "OTQK4FyCbMrf",
        "F9by8ExCWToE",
        "-Bxuoy4PQNP4",
        "CFk9YHqnQUPw",
        "f_KViOFdYCnK",
        "N95aElO1sPoB",
        "OxIS1HZrOvrs",
        "dUUVs6_ogkyO",
        "0DiO9sjtQ5Ey",
        "WoZijV1rYLUJ",
        "62-BXRROojtR",
        "oQS_5eOPpDWZ"
      ],
      "provenance": []
    },
    "kernelspec": {
      "display_name": "Python 3",
      "name": "python3"
    },
    "language_info": {
      "name": "python"
    }
  },
  "nbformat": 4,
  "nbformat_minor": 0
}
